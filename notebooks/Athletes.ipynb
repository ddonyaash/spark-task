{
 "cells": [
  {
   "cell_type": "code",
   "execution_count": 1,
   "id": "52ea2acc",
   "metadata": {},
   "outputs": [],
   "source": [
    "from pyspark.sql import SparkSession "
   ]
  },
  {
   "cell_type": "code",
   "execution_count": 2,
   "id": "62ce8c8e",
   "metadata": {},
   "outputs": [],
   "source": [
    "spark = (SparkSession\n",
    " .builder\n",
    " .appName('spark')\n",
    " .enableHiveSupport()\n",
    " .getOrCreate())"
   ]
  },
  {
   "cell_type": "markdown",
   "id": "3f0a51a2-d88e-4802-8bf8-d909273d5f7c",
   "metadata": {},
   "source": [
    "1) Сгенерировать DataFrame из трёх колонок (row_id, discipline, season) - олимпийские дисциплины по сезонам.\n",
    "  row_id - число порядкового номера строки;\n",
    "  discipline - наименование олимпийский дисциплины на английском (полностью маленькими\n",
    "буквами);\n",
    "  season - сезон дисциплины (summer / winter);\n",
    "*Укажите не менее чем по 5 дисциплин для каждого сезона.\n",
    "Сохраните DataFrame в csv-файл, разделитель колонок табуляция, первая строка должна содержать название колонок.\n",
    "Данные должны быть сохранены в виде 1 csv-файла а не множества маленьких."
   ]
  },
  {
   "cell_type": "code",
   "execution_count": 3,
   "id": "43cbc97f-80e5-4c45-a02d-655063bbacb1",
   "metadata": {},
   "outputs": [
    {
     "name": "stdout",
     "output_type": "stream",
     "text": [
      "+------+----------+------+\n",
      "|row_id|discipline|season|\n",
      "+------+----------+------+\n",
      "|     1| athletics|summer|\n",
      "|     2|  swimming|summer|\n",
      "|     3|    rowing|summer|\n",
      "|     4|   sailing|summer|\n",
      "|     5|    tennis|summer|\n",
      "|     6| triathlon|winter|\n",
      "|     7|    hockey|winter|\n",
      "|     8|      judo|winter|\n",
      "|     9|basketball|winter|\n",
      "|    10| wrestling|winter|\n",
      "+------+----------+------+\n",
      "\n"
     ]
    }
   ],
   "source": [
    "data = [\n",
    "    (1, \"athletics\", \"summer\"),\n",
    "    (2, \"swimming\", \"summer\"),\n",
    "    (3, \"rowing\", \"summer\"),\n",
    "    (4, \"sailing\", \"summer\"),\n",
    "    (5, \"tennis\", \"summer\"),\n",
    "    (6, \"triathlon\", \"winter\"),\n",
    "    (7, \"hockey\", \"winter\"),\n",
    "    (8, \"judo\", \"winter\"),\n",
    "    (9, \"basketball\", \"winter\"),\n",
    "    (10, \"wrestling\", \"winter\")\n",
    "]\n",
    "schema = \"row_id INT, discipline STRING, season STRING\"\n",
    "df = spark.createDataFrame(data, schema)\n",
    "df.show()\n",
    "df.coalesce(1).write.csv(\"data.csv\", sep=\"\\t\", header=True, mode=\"overwrite\")"
   ]
  },
  {
   "cell_type": "markdown",
   "id": "b2167a9e-0d5d-4c04-af25-7ff456aa68fc",
   "metadata": {},
   "source": [
    "2) Прочитайте исходный файл \"Athletes.csv\".\n",
    "Посчитайте в разрезе дисциплин сколько всего спортсменов в каждой из дисциплин принимало участие.\n",
    "Результат сохраните в формате parquet."
   ]
  },
  {
   "cell_type": "code",
   "execution_count": 4,
   "id": "f02c898d-074b-4205-b30c-67de368342a6",
   "metadata": {},
   "outputs": [
    {
     "name": "stdout",
     "output_type": "stream",
     "text": [
      "+--------------------+--------------------+-------------------+\n",
      "|                Name|                 NOC|         Discipline|\n",
      "+--------------------+--------------------+-------------------+\n",
      "|     AALERUD Katrine|              Norway|       Cycling Road|\n",
      "|         ABAD Nestor|               Spain|Artistic Gymnastics|\n",
      "|   ABAGNALE Giovanni|               Italy|             Rowing|\n",
      "|      ABALDE Alberto|               Spain|         Basketball|\n",
      "|       ABALDE Tamara|               Spain|         Basketball|\n",
      "|           ABALO Luc|              France|           Handball|\n",
      "|        ABAROA Cesar|               Chile|             Rowing|\n",
      "|       ABASS Abobakr|               Sudan|           Swimming|\n",
      "|    ABBASALI Hamideh|Islamic Republic ...|             Karate|\n",
      "|       ABBASOV Islam|          Azerbaijan|          Wrestling|\n",
      "|        ABBINGH Lois|         Netherlands|           Handball|\n",
      "|         ABBOT Emily|           Australia|Rhythmic Gymnastics|\n",
      "|       ABBOTT Monica|United States of ...|  Baseball/Softball|\n",
      "|ABDALLA Abubaker ...|               Qatar|          Athletics|\n",
      "|      ABDALLA Maryam|               Egypt|  Artistic Swimming|\n",
      "|      ABDALLAH Shahd|               Egypt|  Artistic Swimming|\n",
      "| ABDALRASOOL Mohamed|               Sudan|               Judo|\n",
      "|   ABDEL LATIF Radwa|               Egypt|           Shooting|\n",
      "|    ABDEL RAZEK Samy|               Egypt|           Shooting|\n",
      "|   ABDELAZIZ Abdalla|               Egypt|             Karate|\n",
      "+--------------------+--------------------+-------------------+\n",
      "only showing top 20 rows\n",
      "\n",
      "+--------------------+----------------------------+\n",
      "|          discipline|count_athletes_in_discipline|\n",
      "+--------------------+----------------------------+\n",
      "|              Tennis|                         178|\n",
      "|              Boxing|                         270|\n",
      "|   Marathon Swimming|                          49|\n",
      "|                Golf|                         115|\n",
      "|              Rowing|                         496|\n",
      "|   Baseball/Softball|                         220|\n",
      "|                Judo|                         373|\n",
      "|             Sailing|                         336|\n",
      "|            Swimming|                         743|\n",
      "|Cycling BMX Frees...|                          19|\n",
      "|          Basketball|                         280|\n",
      "|            Handball|                         343|\n",
      "| Rhythmic Gymnastics|                          95|\n",
      "|              Karate|                          77|\n",
      "|           Triathlon|                         106|\n",
      "|           Badminton|                         164|\n",
      "|        Canoe Sprint|                         236|\n",
      "|           Athletics|                        2068|\n",
      "|       Cycling Track|                         208|\n",
      "|    Beach Volleyball|                          90|\n",
      "+--------------------+----------------------------+\n",
      "only showing top 20 rows\n",
      "\n"
     ]
    }
   ],
   "source": [
    "df = spark.read.csv(\"Athletes.csv\", sep=\";\", header=True, inferSchema=True)\n",
    "df.show()\n",
    "\n",
    "df.createOrReplaceTempView(\"tmp_athletes\")\n",
    "\n",
    "df = spark.sql(\"\"\"\n",
    "SELECT discipline, count(*) as count_athletes_in_discipline \n",
    "FROM tmp_athletes \n",
    "GROUP BY discipline\n",
    "\"\"\")\n",
    "df.show()\n",
    "\n",
    "df.coalesce(1).write.parquet(\"sportsman.parquet\", mode=\"overwrite\")"
   ]
  },
  {
   "cell_type": "markdown",
   "id": "76914527-8139-4da7-9690-b2b454766970",
   "metadata": {},
   "source": [
    "3) Прочитайте исходный файл \"Athletes.csv\".\n",
    "Посчитайте в разрезе дисциплин сколько всего спортсменов в каждой из дисциплин принимало участие.\n",
    "Получившийся результат нужно объединить с сгенерированным вами DataFrame из 1-го задания и в итоге вывести количество участников, только по тем дисциплинам, что есть в вашем сгенерированном DataFrame.\n",
    "Результат сохраните в формате parquet."
   ]
  },
  {
   "cell_type": "code",
   "execution_count": 5,
   "id": "19dea53a-f8d4-4151-908e-b36fd618635a",
   "metadata": {},
   "outputs": [
    {
     "name": "stdout",
     "output_type": "stream",
     "text": [
      "+--------------------+--------------------+-------------------+\n",
      "|                Name|                 NOC|         Discipline|\n",
      "+--------------------+--------------------+-------------------+\n",
      "|     AALERUD Katrine|              Norway|       Cycling Road|\n",
      "|         ABAD Nestor|               Spain|Artistic Gymnastics|\n",
      "|   ABAGNALE Giovanni|               Italy|             Rowing|\n",
      "|      ABALDE Alberto|               Spain|         Basketball|\n",
      "|       ABALDE Tamara|               Spain|         Basketball|\n",
      "|           ABALO Luc|              France|           Handball|\n",
      "|        ABAROA Cesar|               Chile|             Rowing|\n",
      "|       ABASS Abobakr|               Sudan|           Swimming|\n",
      "|    ABBASALI Hamideh|Islamic Republic ...|             Karate|\n",
      "|       ABBASOV Islam|          Azerbaijan|          Wrestling|\n",
      "|        ABBINGH Lois|         Netherlands|           Handball|\n",
      "|         ABBOT Emily|           Australia|Rhythmic Gymnastics|\n",
      "|       ABBOTT Monica|United States of ...|  Baseball/Softball|\n",
      "|ABDALLA Abubaker ...|               Qatar|          Athletics|\n",
      "|      ABDALLA Maryam|               Egypt|  Artistic Swimming|\n",
      "|      ABDALLAH Shahd|               Egypt|  Artistic Swimming|\n",
      "| ABDALRASOOL Mohamed|               Sudan|               Judo|\n",
      "|   ABDEL LATIF Radwa|               Egypt|           Shooting|\n",
      "|    ABDEL RAZEK Samy|               Egypt|           Shooting|\n",
      "|   ABDELAZIZ Abdalla|               Egypt|             Karate|\n",
      "+--------------------+--------------------+-------------------+\n",
      "only showing top 20 rows\n",
      "\n",
      "+------+----------+------+\n",
      "|row_id|discipline|season|\n",
      "+------+----------+------+\n",
      "|     1| athletics|summer|\n",
      "|     2|  swimming|summer|\n",
      "|     3|    rowing|summer|\n",
      "|     4|   sailing|summer|\n",
      "|     5|    tennis|summer|\n",
      "|     6| triathlon|winter|\n",
      "|     7|    hockey|winter|\n",
      "|     8|      judo|winter|\n",
      "|     9|basketball|winter|\n",
      "|    10| wrestling|winter|\n",
      "+------+----------+------+\n",
      "\n",
      "+----------+----------------------------+\n",
      "|discipline|count_athletes_in_discipline|\n",
      "+----------+----------------------------+\n",
      "|    Tennis|                         178|\n",
      "|    Rowing|                         496|\n",
      "|      Judo|                         373|\n",
      "|   Sailing|                         336|\n",
      "|  Swimming|                         743|\n",
      "|Basketball|                         280|\n",
      "| Triathlon|                         106|\n",
      "| Athletics|                        2068|\n",
      "| Wrestling|                         279|\n",
      "|    Hockey|                         406|\n",
      "+----------+----------------------------+\n",
      "\n"
     ]
    }
   ],
   "source": [
    "athletes_df = spark.read.csv(\"Athletes.csv\", sep=\";\", header=True, inferSchema=True)\n",
    "athletes_df.show()\n",
    "\n",
    "athletes_df.createOrReplaceTempView(\"tmp_athletes\")\n",
    "\n",
    "filtered_df = spark.read.csv(\"data.csv\", sep=\"\\t\", header=True, inferSchema=True)\n",
    "filtered_df.show()\n",
    "filtered_df.createOrReplaceTempView(\"tmp_filtered\")\n",
    "\n",
    "athletes_df = spark.sql(\"\"\"\n",
    "SELECT tmp_athletes.discipline, count(*) as count_athletes_in_discipline \n",
    "FROM tmp_athletes JOIN tmp_filtered ON lower(tmp_athletes.Discipline) = tmp_filtered.discipline \n",
    "GROUP BY tmp_athletes.discipline\n",
    "\"\"\")\n",
    "athletes_df.show()\n",
    "\n",
    "athletes_df.coalesce(1).write.parquet(\"athletes_filtered.parquet\", mode=\"overwrite\")"
   ]
  }
 ],
 "metadata": {
  "kernelspec": {
   "display_name": "Python 3 (ipykernel)",
   "language": "python",
   "name": "python3"
  },
  "language_info": {
   "codemirror_mode": {
    "name": "ipython",
    "version": 3
   },
   "file_extension": ".py",
   "mimetype": "text/x-python",
   "name": "python",
   "nbconvert_exporter": "python",
   "pygments_lexer": "ipython3",
   "version": "3.11.6"
  }
 },
 "nbformat": 4,
 "nbformat_minor": 5
}
